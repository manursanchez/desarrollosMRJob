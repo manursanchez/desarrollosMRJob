{
 "cells": [
  {
   "cell_type": "markdown",
   "metadata": {},
   "source": [
    "Ejemplo de patrón de filtrado usando el filtro de Bloom. Éste nos obliga a realizar esta operación en dos pasos: el primero es crear un fichero que almacenará el filtro de Bloom; lo haremos con un bitarray. El segundo paso será pasar por el Map todos los registros, y en base al archivo que contiene el filtro de Bloom seleccionará los posibles positivos o los negativos; aquí dependerá del objetivo de nuestro filtro. La salida del Map será la lista de los registros filtrados. "
   ]
  },
  {
   "cell_type": "code",
   "execution_count": null,
   "metadata": {},
   "outputs": [],
   "source": [
    "%%writefile construyeFiltro.py\n",
    "#!/usr/bin/env python\n",
    "\n",
    "import csv\n",
    "import mmh3\n",
    "from bitarray import bitarray\n",
    "\n",
    "size =   5000000;\n",
    "bit_array = bitarray(size)\n",
    "bit_array.setall(0)\n",
    "\n",
    "#Función para las operaciones hash usando mmh3\n",
    "\n",
    "def mapf(url): \n",
    "    b1 = mmh3.hash(url, 41) % size\n",
    "    bit_array[b1]=1\n",
    "\n",
    "    b2 = mmh3.hash(url, 42) % size\n",
    "    bit_array[b2]=1\n",
    "\n",
    "    b3 = mmh3.hash(url, 43) % size\n",
    "    bit_array[b3]=1\n",
    "\n",
    "    b4 = mmh3.hash(url, 44) % size\n",
    "    bit_array[b4]=1\n",
    "\n",
    "    b5 = mmh3.hash(url, 45) % size\n",
    "    bit_array[b5]=1\n",
    "\n",
    "    b6 = mmh3.hash(url, 46) % size\n",
    "    bit_array[b6]=1\n",
    "\n",
    "    b7 = mmh3.hash(url, 47) % size\n",
    "    bit_array[b7]=1\n",
    "\n",
    "#======================================Programa principal======================================\n",
    "\n",
    "r = csv.reader(open(\"archivos_datos/FBarchivoAprendizaje.csv\")); #Fichero con el que vamos a crear el filtro\n",
    "for row in r:\n",
    "    url=row[1]\n",
    "    mapf(url);\n",
    "    \n",
    "\n",
    "f=open(\"FBcreado.txt\",\"wb\") #Creación del fichero binario de filtro de Bloom(FB)\n",
    "f.write(bit_array)\n",
    "f.close()\n",
    "print (\"Fichero binario de filtro de Bloom creado correctamente.\")"
   ]
  },
  {
   "cell_type": "code",
   "execution_count": null,
   "metadata": {},
   "outputs": [],
   "source": [
    "!python construyeFiltro.py"
   ]
  },
  {
   "cell_type": "code",
   "execution_count": null,
   "metadata": {},
   "outputs": [],
   "source": [
    "!pip install mmh3"
   ]
  },
  {
   "cell_type": "code",
   "execution_count": 5,
   "metadata": {},
   "outputs": [
    {
     "name": "stdout",
     "output_type": "stream",
     "text": [
      "Writing fbloom.py\n"
     ]
    }
   ],
   "source": [
    "%%writefile fbloom.py\n",
    "#!/usr/bin/env python\n",
    "from mrjob.job import MRJob\n",
    "import csv\n",
    "import mmh3\n",
    "from bitarray import bitarray\n",
    "\n",
    "size =  5000000;\n",
    "ba=bitarray(size);\n",
    "ba.setall(0)\n",
    "f=open(\"FBcreado.txt\",\"rb\")\n",
    "f.readinto(ba)\n",
    "f.readlines\n",
    "\n",
    "class fbloom(MRJob):\n",
    "        \n",
    "    def mapper(self,_, line):\n",
    "        linea=line.split(\",\")\n",
    "        #print(\"La URL es: \", linea[1])\n",
    "        b1 = mmh3.hash(linea[1], 41) % size\n",
    "        #print(\"El calculo de mmh3 para b1 es: \",b1)\n",
    "        b2 = mmh3.hash(linea[1], 42) % size\n",
    "        b3 = mmh3.hash(linea[1], 43) % size\n",
    "        b4 = mmh3.hash(linea[1], 44) % size\n",
    "        b5 = mmh3.hash(linea[1], 45) % size\n",
    "        b6 = mmh3.hash(linea[1], 46) % size\n",
    "        b7 = mmh3.hash(linea[1], 47) % size\n",
    "        \n",
    "        \"\"\"Aplicamos la condición y lanzamos con yield los que la cumplan\"\"\"\n",
    "        if ba[b1]==True and ba[b2]==True and ba[b3]==True and ba[b4]==True and ba[b5]==True and ba[b6]==True and ba[b7]==True:\n",
    "            yield \"Linea seleccionada: \",linea[1]\n",
    "            \n",
    "if __name__ == '__main__':\n",
    "    fbloom.run()"
   ]
  },
  {
   "cell_type": "code",
   "execution_count": 6,
   "metadata": {},
   "outputs": [
    {
     "name": "stderr",
     "output_type": "stream",
     "text": [
      "Traceback (most recent call last):\n",
      "  File \"fbloom.py\", line 4, in <module>\n",
      "    import mmh3\n",
      "ModuleNotFoundError: No module named 'mmh3'\n"
     ]
    }
   ],
   "source": [
    "!python fbloom.py archivos_datos/FBarchivoComprobacion.csv"
   ]
  },
  {
   "cell_type": "code",
   "execution_count": null,
   "metadata": {},
   "outputs": [],
   "source": [
    "!python --version"
   ]
  },
  {
   "cell_type": "code",
   "execution_count": null,
   "metadata": {},
   "outputs": [],
   "source": []
  }
 ],
 "metadata": {
  "kernelspec": {
   "display_name": "Python 3",
   "language": "python",
   "name": "python3"
  },
  "language_info": {
   "codemirror_mode": {
    "name": "ipython",
    "version": 3
   },
   "file_extension": ".py",
   "mimetype": "text/x-python",
   "name": "python",
   "nbconvert_exporter": "python",
   "pygments_lexer": "ipython3",
   "version": "3.8.5"
  }
 },
 "nbformat": 4,
 "nbformat_minor": 4
}
