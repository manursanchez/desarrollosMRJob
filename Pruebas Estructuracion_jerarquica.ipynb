{
 "cells": [
  {
   "cell_type": "markdown",
   "metadata": {},
   "source": [
    "Capítulo 6\n",
    "\n",
    "6.3 Patrones de organización de datos.\n",
    "\n",
    "6.3.1 Estructuración jerárquica\n",
    "\n",
    "Prototipo - Este ejemplo de patrón de organización de datos consiste en que dada una estructura de datos en formato tabla, ésta es convertida a otro tipo de estructura en un formato jerarquizado XML."
   ]
  },
  {
   "cell_type": "code",
   "execution_count": 60,
   "metadata": {},
   "outputs": [
    {
     "name": "stdout",
     "output_type": "stream",
     "text": [
      "Overwriting jerarquico.py\n"
     ]
    }
   ],
   "source": [
    "%%writefile jerarquico.py\n",
    "#!/usr/bin/env python\n",
    "#Usamos el archivo foros.csv\n",
    "\n",
    "from mrjob.job import MRJob\n",
    "from mrjob.step import MRStep\n",
    "from mrjob.protocol import RawValueProtocol\n",
    "\n",
    "import xmlify\n",
    "\n",
    "class jerarquico(MRJob):\n",
    "    \n",
    "    OUTPUT_PROTOCOL = RawValueProtocol\n",
    "    \n",
    "    def steps(self):\n",
    "        return [\n",
    "            MRStep(mapper=self.mapper,\n",
    "                reducer_init=self.reducer_init,\n",
    "                reducer=self.reducer,\n",
    "                reducer_final=self.reducer_final),\n",
    "            MRStep(mapper_init=self.mapper_init_dos,\n",
    "                    mapper=self.mapper_dos,\n",
    "                  mapper_final=self.mapper_final_dos)\n",
    "        ]\n",
    "    def mapper(self,_, line):\n",
    "        linea=line.split(\";\") \n",
    "        \n",
    "        mensaje=linea[4] # Recogemos el mensaje de la posición 4 de la línea\n",
    "        tipoMensaje=linea[5] #Recogemos de la posición 5, si es una pregunta o respuesta\n",
    "       \n",
    "        if tipoMensaje==\"question\": \n",
    "            idMensaje=linea[0] #Almacenamos el id único del mensaje\n",
    "            yield idMensaje,(tipoMensaje,mensaje)\n",
    "        else:\n",
    "            idMensaje=linea[7] #Almacenamos el identificador del mensaje idMensaje  \n",
    "            yield idMensaje,(tipoMensaje,mensaje)\n",
    "     \n",
    "    def reducer_init(self):\n",
    "        self.listaFinal=[]\n",
    "    def reducer(self, key, values):\n",
    "        listaValores=[]\n",
    "        listaPrincipal=[]\n",
    "        listaAuxiliar=[] \n",
    "        \n",
    "        for v in values: #Metemos los valores que vienen en un matriz\n",
    "            listaValores.append(v) #Matriz que contiene el tipo de mensaje y el mensaje asociado \n",
    "        \n",
    "        for valor in listaValores:\n",
    "            if valor[0]==\"question\":#Si es una pregunta la metemos en la lista principal\n",
    "                listaPrincipal.append(valor[1])\n",
    "            else:\n",
    "                listaAuxiliar.append(valor[1]) # Si son respuestas, las vamos agregando a una lista\n",
    "        \n",
    "        #listaPrincipal.append(listaAuxiliar) #agregamos la lista de respuestas a la lista principal\n",
    "        listaPrincipal.append(listaAuxiliar)\n",
    "        #self.listaFinal.append(listaPrincipal)\n",
    "        self.listaFinal.extend(listaPrincipal)\n",
    "    def reducer_final(self):\n",
    "        #Conversion a XML indicando en el raiz el id del mensaje\n",
    "        #yield \"Creada linea XML: \" ,xmlify.dumps(self.listaFinal,root = \"key\") \n",
    "        #yield \"Creada linea XML: \" ,xmlify.dumps(self.listaFinal) \n",
    "        for valor in self.listaFinal:\n",
    "            yield \"key\", valor\n",
    "    def mapper_init_dos(self):\n",
    "        self.listaDef=[]\n",
    "    def mapper_dos(self,key,values):\n",
    "        self.listaDef.extend(values)\n",
    "    def mapper_final_dos(self):\n",
    "        yield \"key\", xmlify.dumps(self.listaDef,root = \"key\")\n",
    "\n",
    "if __name__ == '__main__':\n",
    "    jerarquico.run()"
   ]
  },
  {
   "cell_type": "code",
   "execution_count": 61,
   "metadata": {
    "scrolled": true
   },
   "outputs": [
    {
     "name": "stderr",
     "output_type": "stream",
     "text": [
      "No configs found; falling back on auto-configuration\n",
      "No configs specified for inline runner\n",
      "Creating temp directory C:\\Users\\cyber\\AppData\\Local\\Temp\\jerarquico.manuel.20201217.205301.813574\n",
      "Running step 1 of 2...\n",
      "Running step 2 of 2...\n",
      "job output is in C:\\Users\\cyber\\AppData\\Local\\Temp\\jerarquico.manuel.20201217.205301.813574\\output\n",
      "Streaming final output from C:\\Users\\cyber\\AppData\\Local\\Temp\\jerarquico.manuel.20201217.205301.813574\\output...\n",
      "Removing temp directory C:\\Users\\cyber\\AppData\\Local\\Temp\\jerarquico.manuel.20201217.205301.813574...\n"
     ]
    }
   ],
   "source": [
    "!python jerarquico.py archivos_datos/foros_peque.csv > e_jerarquicaV2.xml"
   ]
  },
  {
   "cell_type": "markdown",
   "metadata": {},
   "source": [
    "Capítulo 6\n",
    "\n",
    "6.3 Patrones de organización de datos.\n",
    "\n",
    "6.3.1 Estructuración jerárquica\n",
    "\n",
    "Prototipo - Esta segunda versión vamos a usar la estructura diccionarios de Python"
   ]
  },
  {
   "cell_type": "code",
   "execution_count": 6,
   "metadata": {},
   "outputs": [
    {
     "name": "stdout",
     "output_type": "stream",
     "text": [
      "Writing jerarquicoV2.py\n"
     ]
    }
   ],
   "source": [
    "%%writefile jerarquicoV2.py\n",
    "#!/usr/bin/env python\n",
    "#Usamos el archivo foros.csv\n",
    "\n",
    "from mrjob.job import MRJob\n",
    "from mrjob.protocol import RawValueProtocol\n",
    "import xmlify\n",
    "\n",
    "class jerarquicoV2(MRJob):\n",
    "    OUTPUT_PROTOCOL = RawValueProtocol\n",
    "    def mapper(self,_, line):\n",
    "        linea=line.split(\";\") # Cada línea es un mensaje del foro (pregunta, respuesta o comentario)\n",
    "        \n",
    "        mensaje=linea[4] # Recogemos el mensaje de la posición 4 de la línea\n",
    "        tipoMensaje=linea[5] #Recogemos de la posición 5, si es una pregunta, respuesta o comentario\n",
    "        \n",
    "        if tipoMensaje==\"question\": \n",
    "            idMensaje=linea[0] #Almacenamos el id único del mensaje\n",
    "            yield idMensaje,(tipoMensaje,mensaje)\n",
    "        else:\n",
    "            idPadre=linea[7] #Almacenamos el identificador del mensaje idMensaje  \n",
    "            yield idPadre,(tipoMensaje,mensaje)\n",
    "     \n",
    "    def reducer(self, key, values):\n",
    "        diccionario=dict() #Para el caso que usemos diccionarios\n",
    "        matrizParaXML=[]\n",
    "        listaPrincipal=[]\n",
    "        listaAuxiliar=[]\n",
    "        \n",
    "        for v in values: #Metemos los valores que vienen en un matriz\n",
    "            matrizParaXML.append(v) #Matriz que contiene el tipo de mensaje y el mensaje asociado \n",
    "        \n",
    "        for valor in matrizParaXML:\n",
    "            if valor[0]==\"question\":#Si es una pregunta la metemos en la lista principal\n",
    "                listaPrincipal.append(valor[1])\n",
    "            else:\n",
    "                listaAuxiliar.append(valor[1]) # Si son respuestas, las vamos agregando a una lista\n",
    "        \n",
    "        listaPrincipal.append(listaAuxiliar) #agregamos la lista de respuestas a la lista principal \n",
    "        diccionario[key]=listaPrincipal #Para el caso que usemos diccionarios\n",
    "        yield key,xmlify.dumps(diccionario) # Conversion a XML para el caso que usemos diccionarios\n",
    "        \n",
    "if __name__ == '__main__':\n",
    "    jerarquicoV2.run()"
   ]
  },
  {
   "cell_type": "code",
   "execution_count": 7,
   "metadata": {},
   "outputs": [
    {
     "name": "stderr",
     "output_type": "stream",
     "text": [
      "No configs found; falling back on auto-configuration\n",
      "No configs specified for inline runner\n",
      "Creating temp directory C:\\Users\\cyber\\AppData\\Local\\Temp\\jerarquicoV2.manuel.20201211.191824.267729\n",
      "Running step 1 of 1...\n",
      "job output is in C:\\Users\\cyber\\AppData\\Local\\Temp\\jerarquicoV2.manuel.20201211.191824.267729\\output\n",
      "Streaming final output from C:\\Users\\cyber\\AppData\\Local\\Temp\\jerarquicoV2.manuel.20201211.191824.267729\\output...\n",
      "Removing temp directory C:\\Users\\cyber\\AppData\\Local\\Temp\\jerarquicoV2.manuel.20201211.191824.267729...\n"
     ]
    }
   ],
   "source": [
    "!python jerarquicoV2.py archivos_datos/foros.csv > e_jerarquica.xml"
   ]
  },
  {
   "cell_type": "code",
   "execution_count": 5,
   "metadata": {},
   "outputs": [
    {
     "name": "stdout",
     "output_type": "stream",
     "text": [
      "Overwriting testJerarquico.py\n"
     ]
    }
   ],
   "source": [
    "%%writefile testJerarquico.py\n",
    "import unittest\n",
    "import re,json\n",
    "from jerarquico import jerarquico\n",
    "\n",
    "class TestJerarquico(unittest.TestCase):\n",
    "        \n",
    "    def setUp(self):\n",
    "        #Archivo para la unión\n",
    "        self.archivo = \"archivos_datos/foros.csv\"\n",
    "        \n",
    "        \"\"\"#self.archivo=\"clientes.csv\"\n",
    "        self.archivo = \"ventas.csv\"\n",
    "        self.diccionario={}\n",
    "        with open(self.archivo) as f:\n",
    "            self.tablaEnMemoria = set(line.strip() for line in f)\n",
    "        for linea in self.tablaEnMemoria:\n",
    "            encontrado=re.search('[a-zA-Z]',linea[0])#Para que no tenga en cuenta las cabeceras de las tablas\n",
    "            if encontrado==None:\n",
    "                datos = linea.split(\";\")\n",
    "                self.diccionario[datos[0]]=datos\"\"\"\n",
    "        \n",
    "        #print (\"Diccionario relleno: \",self.diccionario) #Veo si el diccionario está relleno\n",
    "        \n",
    "    def test_rj(self):\n",
    "        #self.archivo2=json.dumps(self.diccionario)\n",
    "        mr_job = jerarquico(['--runner=inline',self.archivo])#Mando al objeto \n",
    "                                                                   #MRJOB el diccionario.\n",
    "                                                                    #ERROR. Si pongo un\n",
    "                                                                    #archivo, sí funciona.\n",
    "        with mr_job.make_runner() as runner: #Ejecuto el MRJob\n",
    "            runner.run()\n",
    "            for key,value in mr_job.parse_output(runner.cat_output()):\n",
    "                print (key,value) \n",
    "            \n",
    "if __name__ == '__main__':\n",
    "    unittest.main()"
   ]
  },
  {
   "cell_type": "code",
   "execution_count": 6,
   "metadata": {},
   "outputs": [
    {
     "name": "stderr",
     "output_type": "stream",
     "text": [
      "No configs specified for inline runner\n",
      "\n",
      "Error while reading from C:\\Users\\MRSANC~1\\AppData\\Local\\Temp\\jerarquico.mrsanchez.20201215.142852.143053\\step\\000\\reducer\\00000\\input:\n",
      "\n",
      "E\n",
      "======================================================================\n",
      "ERROR: test_rj (__main__.TestJerarquico)\n",
      "----------------------------------------------------------------------\n",
      "Traceback (most recent call last):\n",
      "  File \"testJerarquico.py\", line 31, in test_rj\n",
      "    runner.run()\n",
      "  File \"C:\\Users\\mrsanchez\\Anaconda3\\lib\\site-packages\\mrjob\\runner.py\", line 503, in run\n",
      "    self._run()\n",
      "  File \"C:\\Users\\mrsanchez\\Anaconda3\\lib\\site-packages\\mrjob\\sim.py\", line 161, in _run\n",
      "    self._run_step(step, step_num)\n",
      "  File \"C:\\Users\\mrsanchez\\Anaconda3\\lib\\site-packages\\mrjob\\sim.py\", line 170, in _run_step\n",
      "    self._run_streaming_step(step, step_num)\n",
      "  File \"C:\\Users\\mrsanchez\\Anaconda3\\lib\\site-packages\\mrjob\\sim.py\", line 187, in _run_streaming_step\n",
      "    self._run_reducers(step_num, num_reducer_tasks)\n",
      "  File \"C:\\Users\\mrsanchez\\Anaconda3\\lib\\site-packages\\mrjob\\sim.py\", line 289, in _run_reducers\n",
      "    self._run_multiple(\n",
      "  File \"C:\\Users\\mrsanchez\\Anaconda3\\lib\\site-packages\\mrjob\\sim.py\", line 130, in _run_multiple\n",
      "    func()\n",
      "  File \"C:\\Users\\mrsanchez\\Anaconda3\\lib\\site-packages\\mrjob\\sim.py\", line 746, in _run_task\n",
      "    invoke_task(\n",
      "  File \"C:\\Users\\mrsanchez\\Anaconda3\\lib\\site-packages\\mrjob\\inline.py\", line 133, in invoke_task\n",
      "    task.execute()\n",
      "  File \"C:\\Users\\mrsanchez\\Anaconda3\\lib\\site-packages\\mrjob\\job.py\", line 681, in execute\n",
      "    self.run_reducer(self.options.step_num)\n",
      "  File \"C:\\Users\\mrsanchez\\Anaconda3\\lib\\site-packages\\mrjob\\job.py\", line 795, in run_reducer\n",
      "    for k, v in self.reduce_pairs(read_lines(), step_num=step_num):\n",
      "  File \"C:\\Users\\mrsanchez\\Anaconda3\\lib\\site-packages\\mrjob\\job.py\", line 866, in reduce_pairs\n",
      "    for k, v in self._combine_or_reduce_pairs(pairs, 'reducer', step_num):\n",
      "  File \"C:\\Users\\mrsanchez\\Anaconda3\\lib\\site-packages\\mrjob\\job.py\", line 889, in _combine_or_reduce_pairs\n",
      "    for k, v in task(key, values) or ():\n",
      "  File \"C:\\Users\\mrsanchez\\OneDrive - UNED\\PROYECTO FIN DE GRADO\\PROYECTO\\Patrones i+d+i\\jerarquico.py\", line 42, in reducer\n",
      "    yield \"Creada linea XML: \" ,xmlify.dumps(listaPrincipal,root = key)\n",
      "  File \"C:\\Users\\mrsanchez\\Anaconda3\\lib\\site-packages\\xmlify\\__init__.py\", line 79, in dumps\n",
      "    dump(obj, fp, root, declaration)\n",
      "  File \"C:\\Users\\mrsanchez\\Anaconda3\\lib\\site-packages\\xmlify\\__init__.py\", line 73, in dump\n",
      "    root = _build(obj, root, etree.Element(_key(root)))\n",
      "  File \"C:\\Users\\mrsanchez\\Anaconda3\\lib\\site-packages\\xmlify\\__init__.py\", line 55, in _build\n",
      "    if isinstance(obj, collections.Mapping):\n",
      "  File \"C:\\Users\\mrsanchez\\Anaconda3\\lib\\collections\\__init__.py\", line 49, in __getattr__\n",
      "    warnings.warn(\"Using or importing the ABCs from 'collections' instead \"\n",
      "  File \"C:\\Users\\mrsanchez\\Anaconda3\\lib\\warnings.py\", line 112, in _showwarnmsg\n",
      "    _showwarnmsg_impl(msg)\n",
      "  File \"C:\\Users\\mrsanchez\\Anaconda3\\lib\\warnings.py\", line 30, in _showwarnmsg_impl\n",
      "    file.write(text)\n",
      "TypeError: a bytes-like object is required, not 'str'\n",
      "\n",
      "----------------------------------------------------------------------\n",
      "Ran 1 test in 3.325s\n",
      "\n",
      "FAILED (errors=1)\n"
     ]
    }
   ],
   "source": [
    "!python testJerarquico.py"
   ]
  },
  {
   "cell_type": "code",
   "execution_count": null,
   "metadata": {},
   "outputs": [],
   "source": []
  }
 ],
 "metadata": {
  "kernelspec": {
   "display_name": "Python 3",
   "language": "python",
   "name": "python3"
  },
  "language_info": {
   "codemirror_mode": {
    "name": "ipython",
    "version": 3
   },
   "file_extension": ".py",
   "mimetype": "text/x-python",
   "name": "python",
   "nbconvert_exporter": "python",
   "pygments_lexer": "ipython3",
   "version": "3.7.4"
  }
 },
 "nbformat": 4,
 "nbformat_minor": 4
}
