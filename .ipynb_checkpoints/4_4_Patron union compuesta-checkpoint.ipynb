{
 "cells": [
  {
   "cell_type": "markdown",
   "metadata": {},
   "source": [
    "Tercer patrón del grupo de los patrones de unión. En este caso hemos de ordenar los datos de cada conjunto de éstos por clave externa, y posteriormente lanzarlos al Map."
   ]
  },
  {
   "cell_type": "code",
   "execution_count": null,
   "metadata": {},
   "outputs": [],
   "source": [
    "%config IPCompleter.greedy=True"
   ]
  },
  {
   "cell_type": "code",
   "execution_count": 3,
   "metadata": {},
   "outputs": [
    {
     "name": "stdout",
     "output_type": "stream",
     "text": [
      "Overwriting unionCompuesta.py\n"
     ]
    }
   ],
   "source": [
    "%%writefile unionCompuesta.py\n",
    "#!/usr/bin/env python\n",
    "\n",
    "from mrjob.job import MRJob\n",
    "from mrjob.step import MRStep\n",
    "import re,os\n",
    "\n",
    "\n",
    "class unionCompuesta(MRJob):\n",
    "    \n",
    "    #Función que limpia lo que el parámetro devuelve en forma \"file://nombre_fichero\" para dejarlo solo con el nombre \n",
    "    #del fichero: \"nombre_fichero\"\n",
    "    def limpiarNombreArchivo(self,archivo):\n",
    "        encontradaBarra=False\n",
    "        tamano=len(archivo)\n",
    "        posicion=tamano-1\n",
    "        while encontradaBarra==False or posicion==0:\n",
    "            if archivo[posicion]==\"/\":\n",
    "                encontradaBarra=True\n",
    "                return archivo[posicion+1:tamano]\n",
    "            else:\n",
    "                posicion-=1\n",
    "        if posicion==0:\n",
    "            return archivo\n",
    "    # Paso 1 - mapper_init()\n",
    "    def limpieza_nombre(self):\n",
    "        self.namefile=self.limpiarNombreArchivo(os.getenv('map_input_file')) #Usamos el parámetro para saber que nos llega desde streaming\n",
    "        #map_input_file devuelve una cadena de caracteres correspondiente al archivo de entrada por el stream en formato:\n",
    "        # file://nombre_fichero\n",
    "       \n",
    "    # Paso 1 - mapper()\n",
    "    def entradas(self,_,line):\n",
    "        linea=line.split(';')\n",
    "        encontrado=re.search('[a-zA-Z]',linea[0]) #Para que no tenga en cuenta las cabeceras de las tablas\n",
    "        if encontrado==None:\n",
    "            if self.namefile==\"tablaA.csv\":\n",
    "                yield \"listaA\",linea\n",
    "            else:\n",
    "                yield \"listaB\",linea\n",
    "                                          \n",
    "    # Paso 2 - mapper_init()\n",
    "    def declara_estructuras(self): \n",
    "        self.listaA=[]\n",
    "        self.listaB=[]\n",
    "          \n",
    "    # Paso 2 - Mapper\n",
    "    def llena_estructuras(self,tabla,line):\n",
    "       \n",
    "        if tabla==\"listaA\":\n",
    "            self.listaA.append(line)\n",
    "        else:\n",
    "            self.listaB.append(line) \n",
    "    \n",
    "    # Paso 2 - mapper_final -->Aquí he de hacer la unión, pero NO FUNCIOONA\n",
    "    def union_compuesta(self):\n",
    "        self.listaA.sort(key=lambda x: x[0])\n",
    "        self.listaB.sort(key=lambda x: x[0])\n",
    "        for elementoA in self.listaA:\n",
    "            for elementoB in self.listaB:\n",
    "                yield key,(elementoA,elementoB)\n",
    "        \"\"\"if self.listaA and self.listaB:\n",
    "        for A in self.listaA:\n",
    "            yield \"tabla: \",A\"\"\"\n",
    "    \n",
    "    \n",
    "    def steps(self):\n",
    "        return [MRStep(mapper_init=self.limpieza_nombre,\n",
    "                mapper=self.entradas),\n",
    "               MRStep(mapper_init=self.declara_estructuras,\n",
    "                     mapper=self.llena_estructuras,\n",
    "                     mapper_final=self.union_compuesta)\n",
    "               ]\n",
    "                        \n",
    "if __name__ == '__main__':\n",
    "    unionCompuesta.run()"
   ]
  },
  {
   "cell_type": "code",
   "execution_count": 4,
   "metadata": {},
   "outputs": [
    {
     "name": "stderr",
     "output_type": "stream",
     "text": [
      "No configs found; falling back on auto-configuration\n",
      "No configs specified for inline runner\n",
      "Creating temp directory C:\\Users\\cyber\\AppData\\Local\\Temp\\unionCompuesta.manuel.20201128.125816.092023\n",
      "Running step 1 of 2...\n",
      "Running step 2 of 2...\n",
      "job output is in C:\\Users\\cyber\\AppData\\Local\\Temp\\unionCompuesta.manuel.20201128.125816.092023\\output\n",
      "Streaming final output from C:\\Users\\cyber\\AppData\\Local\\Temp\\unionCompuesta.manuel.20201128.125816.092023\\output...\n",
      "Removing temp directory C:\\Users\\cyber\\AppData\\Local\\Temp\\unionCompuesta.manuel.20201128.125816.092023...\n"
     ]
    }
   ],
   "source": [
    "!python unionCompuesta.py archivos_datos/tablaA.csv archivos_datos/tablaB.csv"
   ]
  },
  {
   "cell_type": "code",
   "execution_count": null,
   "metadata": {},
   "outputs": [],
   "source": [
    "%%writefile unionCompuestaV2.py\n",
    "#!/usr/bin/python\n",
    "\n",
    "import re,sys\n",
    "from mrjob.job import MRJob\n",
    "\n",
    "\n",
    "class unionCompuestaV2(MRJob):\n",
    "    \"\"\"FILES = ['tablaA.csv','tablaB.csv']\n",
    "    fichero='tablaA.csv'\"\"\"\n",
    "    \n",
    "    def mapper_init(self):\n",
    "        \n",
    "       \n",
    "    def mapper(self,key,line):\n",
    "        self.linea=line.split(';')\n",
    "        encontrado=re.search('[a-zA-Z]',self.linea[0])#Para que no tenga en cuenta las cabeceras de las tablas\n",
    "        if encontrado==None:\n",
    "            #Aplicamos algoritmo: \n",
    "            self.clave=self.linea[6] #Se extrae la clave del fichero que entra por línea de comandos \n",
    "             # Se comprueba que la clave del fichero de entrada esté en el diccionario\n",
    "            if self.clave in self.dicTablaA: #Si encuentra la clave en el diccionario unimos y cedemos (yield) resultado\n",
    "                yield self.clave,(self.linea,self.dicTablaA.get(self.clave) )\n",
    "            else:#Si no está, sacamos la línea del archivo pero sin su complementario del diccionario de memoria. Uniòn por la izquierda.\n",
    "                yield self.clave,(self.linea,\"null\")\n",
    "                \n",
    "if __name__ == '__main__':\n",
    "    unionCompuestaV2.run()"
   ]
  },
  {
   "cell_type": "code",
   "execution_count": null,
   "metadata": {},
   "outputs": [],
   "source": []
  }
 ],
 "metadata": {
  "kernelspec": {
   "display_name": "Python 3",
   "language": "python",
   "name": "python3"
  },
  "language_info": {
   "codemirror_mode": {
    "name": "ipython",
    "version": 3
   },
   "file_extension": ".py",
   "mimetype": "text/x-python",
   "name": "python",
   "nbconvert_exporter": "python",
   "pygments_lexer": "ipython3",
   "version": "3.8.5"
  }
 },
 "nbformat": 4,
 "nbformat_minor": 4
}
