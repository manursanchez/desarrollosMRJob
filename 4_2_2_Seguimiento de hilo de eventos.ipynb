{
 "cells": [
  {
   "cell_type": "markdown",
   "metadata": {},
   "source": [
    "Patrón para extraer un hilo de eventos consecutivos como parte de un estudio de un conjunto de datos más grande.\n",
    "En este ejemplo, extraeremos la información de un usuario en particular que interactúa en curso de una plataforma de formación, mediante el análisis de los registros de los eventos de éste, que están intercalados con todos los demás eventos, por lo que es difícil darse cuenta de lo que ha realizado. Podemos realizar un filtro mediante la IP o el tipo de evento."
   ]
  },
  {
   "cell_type": "code",
   "execution_count": 1,
   "metadata": {},
   "outputs": [],
   "source": [
    "%config IPCompleter.greedy=True"
   ]
  },
  {
   "cell_type": "code",
   "execution_count": 2,
   "metadata": {},
   "outputs": [
    {
     "name": "stdout",
     "output_type": "stream",
     "text": [
      "Writing hiloeventos.py\n"
     ]
    }
   ],
   "source": [
    "%%writefile hiloeventos.py\n",
    "#!/usr/bin/env python\n",
    "\n",
    "from mrjob.job import MRJob\n",
    "\n",
    "class hiloeventos(MRJob):\n",
    "    \n",
    "    def mapper(self,_, line):\n",
    "        linea=line.rstrip(\"\\n\").split(\";\")\n",
    "        if linea[1]==\"Admin Manuel R.\" and linea[3]==\"Foro: Foro general del curso\":\n",
    "            yield (linea[1],linea[3]),1\n",
    "            \n",
    "if __name__ == '__main__':\n",
    "    hiloeventos.run()"
   ]
  },
  {
   "cell_type": "code",
   "execution_count": 3,
   "metadata": {},
   "outputs": [
    {
     "name": "stdout",
     "output_type": "stream",
     "text": [
      "[\"Admin Manuel R.\", \"Foro: Foro general del curso\"]\t1\n",
      "[\"Admin Manuel R.\", \"Foro: Foro general del curso\"]\t1\n",
      "[\"Admin Manuel R.\", \"Foro: Foro general del curso\"]\t1\n",
      "[\"Admin Manuel R.\", \"Foro: Foro general del curso\"]\t1\n",
      "[\"Admin Manuel R.\", \"Foro: Foro general del curso\"]\t1\n",
      "[\"Admin Manuel R.\", \"Foro: Foro general del curso\"]\t1\n",
      "[\"Admin Manuel R.\", \"Foro: Foro general del curso\"]\t1\n",
      "[\"Admin Manuel R.\", \"Foro: Foro general del curso\"]\t1\n",
      "[\"Admin Manuel R.\", \"Foro: Foro general del curso\"]\t1\n",
      "[\"Admin Manuel R.\", \"Foro: Foro general del curso\"]\t1\n",
      "[\"Admin Manuel R.\", \"Foro: Foro general del curso\"]\t1\n",
      "[\"Admin Manuel R.\", \"Foro: Foro general del curso\"]\t1\n",
      "[\"Admin Manuel R.\", \"Foro: Foro general del curso\"]\t1\n",
      "[\"Admin Manuel R.\", \"Foro: Foro general del curso\"]\t1\n",
      "[\"Admin Manuel R.\", \"Foro: Foro general del curso\"]\t1\n",
      "[\"Admin Manuel R.\", \"Foro: Foro general del curso\"]\t1\n",
      "[\"Admin Manuel R.\", \"Foro: Foro general del curso\"]\t1\n",
      "[\"Admin Manuel R.\", \"Foro: Foro general del curso\"]\t1\n",
      "[\"Admin Manuel R.\", \"Foro: Foro general del curso\"]\t1\n",
      "[\"Admin Manuel R.\", \"Foro: Foro general del curso\"]\t1\n",
      "[\"Admin Manuel R.\", \"Foro: Foro general del curso\"]\t1\n",
      "[\"Admin Manuel R.\", \"Foro: Foro general del curso\"]\t1\n",
      "[\"Admin Manuel R.\", \"Foro: Foro general del curso\"]\t1\n",
      "[\"Admin Manuel R.\", \"Foro: Foro general del curso\"]\t1\n",
      "[\"Admin Manuel R.\", \"Foro: Foro general del curso\"]\t1\n",
      "[\"Admin Manuel R.\", \"Foro: Foro general del curso\"]\t1\n",
      "[\"Admin Manuel R.\", \"Foro: Foro general del curso\"]\t1\n",
      "[\"Admin Manuel R.\", \"Foro: Foro general del curso\"]\t1\n",
      "[\"Admin Manuel R.\", \"Foro: Foro general del curso\"]\t1\n",
      "[\"Admin Manuel R.\", \"Foro: Foro general del curso\"]\t1\n",
      "[\"Admin Manuel R.\", \"Foro: Foro general del curso\"]\t1\n",
      "[\"Admin Manuel R.\", \"Foro: Foro general del curso\"]\t1\n",
      "[\"Admin Manuel R.\", \"Foro: Foro general del curso\"]\t1\n",
      "[\"Admin Manuel R.\", \"Foro: Foro general del curso\"]\t1\n",
      "[\"Admin Manuel R.\", \"Foro: Foro general del curso\"]\t1\n",
      "[\"Admin Manuel R.\", \"Foro: Foro general del curso\"]\t1\n",
      "[\"Admin Manuel R.\", \"Foro: Foro general del curso\"]\t1\n",
      "[\"Admin Manuel R.\", \"Foro: Foro general del curso\"]\t1\n",
      "[\"Admin Manuel R.\", \"Foro: Foro general del curso\"]\t1\n",
      "[\"Admin Manuel R.\", \"Foro: Foro general del curso\"]\t1\n",
      "[\"Admin Manuel R.\", \"Foro: Foro general del curso\"]\t1\n",
      "[\"Admin Manuel R.\", \"Foro: Foro general del curso\"]\t1\n",
      "[\"Admin Manuel R.\", \"Foro: Foro general del curso\"]\t1\n",
      "[\"Admin Manuel R.\", \"Foro: Foro general del curso\"]\t1\n",
      "[\"Admin Manuel R.\", \"Foro: Foro general del curso\"]\t1\n",
      "[\"Admin Manuel R.\", \"Foro: Foro general del curso\"]\t1\n",
      "[\"Admin Manuel R.\", \"Foro: Foro general del curso\"]\t1\n",
      "[\"Admin Manuel R.\", \"Foro: Foro general del curso\"]\t1\n",
      "[\"Admin Manuel R.\", \"Foro: Foro general del curso\"]\t1\n",
      "[\"Admin Manuel R.\", \"Foro: Foro general del curso\"]\t1\n",
      "[\"Admin Manuel R.\", \"Foro: Foro general del curso\"]\t1\n",
      "[\"Admin Manuel R.\", \"Foro: Foro general del curso\"]\t1\n",
      "[\"Admin Manuel R.\", \"Foro: Foro general del curso\"]\t1\n",
      "[\"Admin Manuel R.\", \"Foro: Foro general del curso\"]\t1\n",
      "[\"Admin Manuel R.\", \"Foro: Foro general del curso\"]\t1\n",
      "[\"Admin Manuel R.\", \"Foro: Foro general del curso\"]\t1\n",
      "[\"Admin Manuel R.\", \"Foro: Foro general del curso\"]\t1\n",
      "[\"Admin Manuel R.\", \"Foro: Foro general del curso\"]\t1\n",
      "[\"Admin Manuel R.\", \"Foro: Foro general del curso\"]\t1\n",
      "[\"Admin Manuel R.\", \"Foro: Foro general del curso\"]\t1\n",
      "[\"Admin Manuel R.\", \"Foro: Foro general del curso\"]\t1\n",
      "[\"Admin Manuel R.\", \"Foro: Foro general del curso\"]\t1\n",
      "[\"Admin Manuel R.\", \"Foro: Foro general del curso\"]\t1\n",
      "[\"Admin Manuel R.\", \"Foro: Foro general del curso\"]\t1\n",
      "[\"Admin Manuel R.\", \"Foro: Foro general del curso\"]\t1\n",
      "[\"Admin Manuel R.\", \"Foro: Foro general del curso\"]\t1\n",
      "[\"Admin Manuel R.\", \"Foro: Foro general del curso\"]\t1\n",
      "[\"Admin Manuel R.\", \"Foro: Foro general del curso\"]\t1\n",
      "[\"Admin Manuel R.\", \"Foro: Foro general del curso\"]\t1\n",
      "[\"Admin Manuel R.\", \"Foro: Foro general del curso\"]\t1\n",
      "[\"Admin Manuel R.\", \"Foro: Foro general del curso\"]\t1\n",
      "[\"Admin Manuel R.\", \"Foro: Foro general del curso\"]\t1\n",
      "[\"Admin Manuel R.\", \"Foro: Foro general del curso\"]\t1\n",
      "[\"Admin Manuel R.\", \"Foro: Foro general del curso\"]\t1\n",
      "[\"Admin Manuel R.\", \"Foro: Foro general del curso\"]\t1\n",
      "[\"Admin Manuel R.\", \"Foro: Foro general del curso\"]\t1\n",
      "[\"Admin Manuel R.\", \"Foro: Foro general del curso\"]\t1\n",
      "[\"Admin Manuel R.\", \"Foro: Foro general del curso\"]\t1\n",
      "[\"Admin Manuel R.\", \"Foro: Foro general del curso\"]\t1\n",
      "[\"Admin Manuel R.\", \"Foro: Foro general del curso\"]\t1\n",
      "[\"Admin Manuel R.\", \"Foro: Foro general del curso\"]\t1\n",
      "[\"Admin Manuel R.\", \"Foro: Foro general del curso\"]\t1\n",
      "[\"Admin Manuel R.\", \"Foro: Foro general del curso\"]\t1\n",
      "[\"Admin Manuel R.\", \"Foro: Foro general del curso\"]\t1\n",
      "[\"Admin Manuel R.\", \"Foro: Foro general del curso\"]\t1\n",
      "[\"Admin Manuel R.\", \"Foro: Foro general del curso\"]\t1\n",
      "[\"Admin Manuel R.\", \"Foro: Foro general del curso\"]\t1\n",
      "[\"Admin Manuel R.\", \"Foro: Foro general del curso\"]\t1\n",
      "[\"Admin Manuel R.\", \"Foro: Foro general del curso\"]\t1\n",
      "[\"Admin Manuel R.\", \"Foro: Foro general del curso\"]\t1\n",
      "[\"Admin Manuel R.\", \"Foro: Foro general del curso\"]\t1\n",
      "[\"Admin Manuel R.\", \"Foro: Foro general del curso\"]\t1\n",
      "[\"Admin Manuel R.\", \"Foro: Foro general del curso\"]\t1\n",
      "[\"Admin Manuel R.\", \"Foro: Foro general del curso\"]\t1\n",
      "[\"Admin Manuel R.\", \"Foro: Foro general del curso\"]\t1\n"
     ]
    },
    {
     "name": "stderr",
     "output_type": "stream",
     "text": [
      "No configs found; falling back on auto-configuration\n",
      "No configs specified for inline runner\n",
      "Creating temp directory C:\\Users\\cyber\\AppData\\Local\\Temp\\hiloeventos.manuel.20201114.130627.137943\n",
      "Running step 1 of 1...\n",
      "job output is in C:\\Users\\cyber\\AppData\\Local\\Temp\\hiloeventos.manuel.20201114.130627.137943\\output\n",
      "Streaming final output from C:\\Users\\cyber\\AppData\\Local\\Temp\\hiloeventos.manuel.20201114.130627.137943\\output...\n",
      "Removing temp directory C:\\Users\\cyber\\AppData\\Local\\Temp\\hiloeventos.manuel.20201114.130627.137943...\n"
     ]
    }
   ],
   "source": [
    "!python hiloeventos.py archivos_datos/eventos_alumnos.csv"
   ]
  },
  {
   "cell_type": "code",
   "execution_count": null,
   "metadata": {},
   "outputs": [],
   "source": []
  }
 ],
 "metadata": {
  "kernelspec": {
   "display_name": "Python 3",
   "language": "python",
   "name": "python3"
  },
  "language_info": {
   "codemirror_mode": {
    "name": "ipython",
    "version": 3
   },
   "file_extension": ".py",
   "mimetype": "text/x-python",
   "name": "python",
   "nbconvert_exporter": "python",
   "pygments_lexer": "ipython3",
   "version": "3.7.4"
  }
 },
 "nbformat": 4,
 "nbformat_minor": 4
}
