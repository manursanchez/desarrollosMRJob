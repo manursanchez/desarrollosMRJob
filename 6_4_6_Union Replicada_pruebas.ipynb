{
 "cells": [
  {
   "cell_type": "markdown",
   "metadata": {},
   "source": [
    "Este patrón de Unión es muy interesante por que nos va a permitir meter al map por stream varios archivos\n",
    "o tablas, y unirlos a una tabla que previamente hemos cargado en memoria. Es decir, al contrario que hacíamos en los patrones de unión interno, por la izquierda, derecha, etc. que metíamos las dos tablas que se iban a unir, aquí una tabla la metemos en memoria y la otra u otras la metemos por el stream para unirlas en el Mapper. No será necesario barajar ni ordenar ni reducir. Solo desarrollamos mapper_init, una función a la que llamaremos desde el init y será la que cargará el archivo con la tabla en memoria, y despues en el Map, haremos la unión por la entrada del stream. Aquí vamos a tener la dificultad del tamaño de la memoria, es la que nos pondrá límites. "
   ]
  },
  {
   "cell_type": "code",
   "execution_count": null,
   "metadata": {},
   "outputs": [],
   "source": [
    "%config IPCompleter.greedy=True"
   ]
  },
  {
   "cell_type": "markdown",
   "metadata": {},
   "source": [
    "VERSIÓN 1 - Esta primera versión abre el archivo del sistema de archivos, que está guardado en un directorio.\n",
    "Lo hace, pero no del todo bien porque:\n",
    "    1 - Hay código que no está dentro de ningún método. Tengo que meterlo en una función o método, esto queda feo y poco profesional, pero...\n",
    "    2 - ...si lo meto en una función que sea llamada por ejemplo, desde el mapper_init, no reconoce el archivo csv y aparece un error.\n",
    "    El punto 2 se lo he consultado a Agustín, a ver si me da un poco de norte.\n",
    " EDITO: He conseguido cargar un fichero y meterlo en un diccionario en la versión 5\n"
   ]
  },
  {
   "cell_type": "code",
   "execution_count": 15,
   "metadata": {},
   "outputs": [
    {
     "name": "stdout",
     "output_type": "stream",
     "text": [
      "Overwriting unionReplicadaV1.py\n"
     ]
    }
   ],
   "source": [
    "%%writefile unionReplicadaV1.py\n",
    "#!/usr/bin/env python\n",
    "\n",
    "from mrjob.job import MRJob\n",
    "import re,sys,os\n",
    "\n",
    "\n",
    "class unionReplicadaV1(MRJob):\n",
    "  \n",
    "    diccionario={}\n",
    "    archivo = open(\"clientes.csv\")\n",
    "    for linea in archivo:\n",
    "        encontrado=re.search('[a-zA-Z]',linea[0])#Para que no tenga en cuenta las cabeceras de las tablas\n",
    "        if encontrado==None:\n",
    "            datos = linea.split(\";\")\n",
    "            diccionario[datos[0]]=datos\n",
    "\n",
    "    def mapper_init(self):\n",
    "        #Llamamos a cargaTabla\n",
    "        self.tablaA=self.diccionario #tablaA será el diccionario que le viene desde cargaTabla\"\"\"\n",
    "    def mapper(self,_,line):\n",
    "        self.linea=line.split(';')\n",
    "        encontrado=re.search('[a-zA-Z]',self.linea[0])#Para que no tenga en cuenta las cabeceras de las tablas\n",
    "        if encontrado==None: #¡¡¡CUIDADO CON LOS ÁMBITOS DE LAS VARIABLES!!!!\n",
    "            self.clave=self.linea[6] #Extraigo la clave del fichero de entrada \n",
    "            if self.clave in self.tablaA: #Si encuentra la clave en el diccionario unimos y sacamos\n",
    "                yield self.clave,(self.linea,self.tablaA.get(self.clave) )\n",
    "            else:#Si no está, sacamos la línea del archivo pero sin su complementario del diccionario de memoria\n",
    "                yield self.clave,(self.linea,\"null\")\n",
    "    \"\"\"def mapper_final(self):\n",
    "         # A continuación se comprueba que la clave del fichero de entrada esté en el diccionario\n",
    "        if self.clave in self.tablaA: #Si encuentra la clave en el diccionario unimos y sacamos\n",
    "            yield self.clave,(self.linea,self.tablaA.get(self.clave) )\n",
    "        else:#Si no está, sacamos la línea del archivo pero sin su complementario del diccionario de memoria\n",
    "            yield self.clave,(self.linea,\"null\")\"\"\"\n",
    "                    \n",
    "if __name__ == '__main__':\n",
    "    unionReplicadaV1.run()"
   ]
  },
  {
   "cell_type": "code",
   "execution_count": 16,
   "metadata": {},
   "outputs": [
    {
     "name": "stderr",
     "output_type": "stream",
     "text": [
      "No configs found; falling back on auto-configuration\n",
      "No configs specified for inline runner\n",
      "Creating temp directory C:\\Users\\MRSANC~1\\AppData\\Local\\Temp\\unionReplicadaV1.mrsanchez.20200915.101904.332691\n",
      "Running step 1 of 1...\n",
      "job output is in C:\\Users\\MRSANC~1\\AppData\\Local\\Temp\\unionReplicadaV1.mrsanchez.20200915.101904.332691\\output\n",
      "Streaming final output from C:\\Users\\MRSANC~1\\AppData\\Local\\Temp\\unionReplicadaV1.mrsanchez.20200915.101904.332691\\output...\n",
      "Removing temp directory C:\\Users\\MRSANC~1\\AppData\\Local\\Temp\\unionReplicadaV1.mrsanchez.20200915.101904.332691...\n"
     ]
    }
   ],
   "source": [
    "!python unionReplicadaV1.py ventas.csv > unionReplicadaV1.txt"
   ]
  },
  {
   "cell_type": "markdown",
   "metadata": {},
   "source": [
    "VERSIÓN 2 - Dado los problemas para cargar en el entorno un archivo para meterlo en la memoria, he optado por crear los datos directamente en el mapper_init, para poder desarrollar el algoritmo que permita hacer la unión desde memoria con el archivo/os de entrada. El resultado es el código debajo. Dejo pendiente mejorar este patrón para cargar desde la caché los archivos o lo que sea que me tiene frito, sin necesidad de escribir los datos del diccionario a mano; lo que se trata es que el diccionario (hashmap en Java) se cree automáticamente cogiendo los datos desde la DistributedCache de Hadoop (creo que es así)."
   ]
  },
  {
   "cell_type": "code",
   "execution_count": null,
   "metadata": {},
   "outputs": [],
   "source": [
    "%%writefile unionReplicadaV2.py\n",
    "#!/usr/bin/env python\n",
    "\n",
    "from mrjob.job import MRJob\n",
    "import pandas as pd\n",
    "import re,sys,os\n",
    "\"\"\"Versión 2 - En el mapper init cargo los datos directamente\"\"\"\n",
    "class unionReplicadaV2(MRJob):\n",
    "    \"\"\"Esta versión es solo para comprobar el algoritmo de búsqueda y unión bases de datos pequeñas. No es nada funcional. Solo pruebas.\n",
    "    Como patrón, el algoritmo de búsqueda que es el que vamos a usar en todas las versiones Unión replicada.\"\"\"\n",
    "    def mapper_init(self):\n",
    "        #Cargamos los datos en memoria\n",
    "        self.datos = {'3':[3,3738,\"New York,NY\"],\n",
    "        '4':[4,12946,\"New York,NY\"],\n",
    "        '5':[5,17556,\"San Diego, CA\"],\n",
    "        '9':[9,3443,'Oakland, CA']}\n",
    "        \n",
    "    def mapper(self,_,line):\n",
    "        linea=line.split(';')\n",
    "        encontrado=re.search('[a-zA-Z]',linea[0])#Para que no tenga en cuenta las cabeceras de las tablas\n",
    "        if encontrado==None:\n",
    "            clave=linea[0] #Extraigo la clave del fichero de entrada \n",
    "            # A continuación se comprueba que la clave del fichero de entrada esté en el diccionario\n",
    "            if clave in self.datos: #Si encuentra la clave en el diccionario unimos y sacamos\n",
    "                yield clave,(linea,self.datos.get(clave) )\n",
    "            else:#Si no está, sacamos la línea del archivo pero sin su complementario del diccionario de memoria\n",
    "                yield clave,(linea,\"null\")\n",
    "                    \n",
    "if __name__ == '__main__':\n",
    "    unionReplicadaV2.run()"
   ]
  },
  {
   "cell_type": "code",
   "execution_count": null,
   "metadata": {},
   "outputs": [],
   "source": [
    "!python unionReplicadaV2.py tablaB.csv > unionReplicadaV2.txt --quiet"
   ]
  },
  {
   "cell_type": "markdown",
   "metadata": {},
   "source": [
    "VERSIÓN 3 No funciona - Usamos la libreía MRStep para la carga, configuración y ejecución por pasos.\n",
    "Son tres pasos:\n",
    "    Paso 1 - inicio_estructura() Creación de la estructura Diccionario donde iran los datos en memoria del primer fichero que se le pasa\n",
    "    Paso 2 - carga_datos() Se llena la estructura con los datos del primer fichero\n",
    "    Paso 3 - replicated_join() Se aplica el algoritmo de búsqueda y unión."
   ]
  },
  {
   "cell_type": "code",
   "execution_count": null,
   "metadata": {},
   "outputs": [],
   "source": [
    "%%writefile unionReplicadaV3.py\n",
    "#!/usr/bin/env python\n",
    "\n",
    "from mrjob.job import MRJob\n",
    "from mrjob.step import MRStep\n",
    "import re,os\n",
    "\n",
    "class unionReplicadaV3(MRJob):\n",
    "\n",
    "    \n",
    "    def inicio_estructura(self):\n",
    "        #Diccionario para cargar los datos en memoria\n",
    "        self.diccionario = {}\n",
    "            \n",
    "    def carga_datos(self,_,line):\n",
    "        for linea in line:\n",
    "            encontrado=re.search('[a-zA-Z]',linea[0])#Para que no tenga en cuenta las cabeceras de las tablas\n",
    "            if encontrado==None:\n",
    "                datos = linea.split(\";\")\n",
    "                self.diccionario[datos[0]]=datos\n",
    "    \n",
    "    def replicated_join(self,input_path):\n",
    "        linea=line.split(';')\n",
    "        encontrado=re.search('[a-zA-Z]',linea[0])#Para que no tenga en cuenta las cabeceras de las tablas\n",
    "        if encontrado==None:\n",
    "            clave=linea[0] #Extraigo la clave del fichero de entrada \n",
    "            # A continuación se comprueba que la clave del fichero de entrada esté en el diccionario\n",
    "            if clave in self.datos: #Si encuentra la clave en el diccionario unimos y sacamos\n",
    "                yield clave,(linea,self.diccionario.get(clave) )\n",
    "            else:#Si no está, sacamos la línea del archivo pero sin su complementario del diccionario de memoria\n",
    "                yield clave,(linea,\"null\")\n",
    "    \n",
    "    def steps(self):\n",
    "        return [MRStep(mapper_init=self.inicio_estructura,\n",
    "                        mapper=self.carga_datos),\n",
    "                MRStep(mapper_raw=self.replicated_join)]\n",
    "                    \n",
    "if __name__ == '__main__':\n",
    "    unionReplicadaV3.run()"
   ]
  },
  {
   "cell_type": "code",
   "execution_count": null,
   "metadata": {},
   "outputs": [],
   "source": [
    "!python unionReplicadaV3.py > unionReplicadaV3.txt"
   ]
  },
  {
   "cell_type": "markdown",
   "metadata": {},
   "source": [
    "Versión 4 No funciona -  Se ha desarrollado con algunas líneas de https://github.com/manursanchez/mrjob/blob/master/mrjob/examples/mr_most_used_word.py\n"
   ]
  },
  {
   "cell_type": "code",
   "execution_count": null,
   "metadata": {},
   "outputs": [],
   "source": [
    "%%writefile unionReplicadaV4.py\n",
    "#!/usr/bin/env python\n",
    "\n",
    "from mrjob.job import MRJob\n",
    "import re\n",
    "\n",
    "class unionReplicadaV4(MRJob):\n",
    "    FILES=['tablaA.csv']\n",
    "    \n",
    "    def configure_args(self):\n",
    "        super(unionReplicadaV4, self).configure_args()\n",
    "\n",
    "        # allow for alternate stop words file\n",
    "        self.add_file_arg(\n",
    "            '--tablaA-file',\n",
    "            dest='tablaA_file', #ERROR \n",
    "            default=None,\n",
    "            help='Tabla que cargaremos en memoria',\n",
    "        )\n",
    "        \n",
    "    def cargaTabla(self):\n",
    "        self.diccionario={} \n",
    "        for linea in self.tablaA_file:\n",
    "            encontrado=re.search('[a-zA-Z]',linea[0])#Para que no tenga en cuenta las cabeceras de la tabla\n",
    "            if encontrado==None:\n",
    "                datos = linea.split(\";\")\n",
    "                diccionario[datos[0]]=datos\n",
    "\n",
    "        return diccionario    \n",
    "   \n",
    "    def mapper_init(self):\n",
    "        \n",
    "        #Llamamos a cargaTabla\n",
    "        self.tablaA=self.cargaTabla()\n",
    "        \n",
    "    def mapper(self,_,line):\n",
    "        self.linea=line.split(';')\n",
    "        encontrado=re.search('[a-zA-Z]',self.linea[0])#Para que no tenga en cuenta las cabeceras de las tablas\n",
    "        if encontrado==None:\n",
    "            self.clave=self.linea[6] #Extraigo la clave del fichero de entrada \n",
    "           \n",
    "    def mapper_final(self):\n",
    "         # A continuación se comprueba que la clave del fichero de entrada esté en el diccionario\n",
    "        if self.clave in self.tablaA: #Si encuentra la clave en el diccionario unimos y sacamos\n",
    "            yield self.clave,(self.linea,self.tablaA.get(self.clave) )\n",
    "        else:#Si no está, sacamos la línea del archivo pero sin su complementario del diccionario de memoria\n",
    "            yield self.clave,(self.linea,\"null\")\n",
    "                    \n",
    "if __name__ == '__main__':\n",
    "    unionReplicadaV4.run()"
   ]
  },
  {
   "cell_type": "code",
   "execution_count": null,
   "metadata": {},
   "outputs": [],
   "source": [
    "!python unionReplicadaV4.py tablaB.csv > unionReplicadaV4.txt"
   ]
  },
  {
   "cell_type": "markdown",
   "metadata": {},
   "source": [
    "Pequeño pgramita para rellenar un diccionario clave valor a partir de un archivo"
   ]
  },
  {
   "cell_type": "code",
   "execution_count": null,
   "metadata": {},
   "outputs": [],
   "source": [
    "%%writefile llenarDiccionario.py\n",
    "#!/usr/bin/env python\n",
    "import re\n",
    "diccionario={}\n",
    "archivo = open(\"tablaA.csv\")\n",
    "for linea in archivo:\n",
    "    encontrado=re.search('[a-zA-Z]',linea[0])#Para que no tenga en cuenta las cabeceras de las tablas\n",
    "    if encontrado==None:\n",
    "        datos = linea.split(\";\")\n",
    "        diccionario[datos[0]]=datos\n",
    "\n",
    "print (diccionario)"
   ]
  },
  {
   "cell_type": "code",
   "execution_count": null,
   "metadata": {},
   "outputs": [],
   "source": [
    "!python llenarDiccionario.py"
   ]
  },
  {
   "cell_type": "markdown",
   "metadata": {},
   "source": [
    "FUNCIONA. VERSIÓN DEFINITIVA.\n",
    "\n",
    "Versión 5 - Combinando con la Versión 4, he conseguido cargar el archivo como argumento., lo que me permite crear el diccionario en memoria y realizar la Unión replicada. Funciona pero solo me devuelve un bloque con la unión replicada del proceso Map.\n",
    "EDITO 15/09/2020 El maldito error de que solo me devolviera un conjunto de registros era por que el algoritmo lo aplicaba fuera del ámbito del primer if (el que comprueba la expresión regular). Vamos, un error de primero de carrera. :-(\n"
   ]
  },
  {
   "cell_type": "code",
   "execution_count": 16,
   "metadata": {},
   "outputs": [
    {
     "name": "stdout",
     "output_type": "stream",
     "text": [
      "Overwriting unionReplicadaV5.py\n"
     ]
    }
   ],
   "source": [
    "%%writefile unionReplicadaV5.py\n",
    "#!/usr/bin/python\n",
    "\n",
    "import re\n",
    "from mrjob.job import MRJob\n",
    "\n",
    "def cargarFicheroEnMemoria(self,fichero):\n",
    "    diccionario={}\n",
    "    with open(fichero) as f:\n",
    "        self.tablaEnMemoria = set(line.strip() for line in f)\n",
    "    for linea in self.tablaEnMemoria:\n",
    "        #Para que no tenga en cuenta las cabeceras de las tablas\n",
    "        encontrado=re.search('[a-zA-Z]',linea[0])\n",
    "        if encontrado==None:\n",
    "            datos = linea.split(\";\")\n",
    "            diccionario[datos[0]]=datos\n",
    "    return diccionario\n",
    "\n",
    "class unionReplicadaV5(MRJob):\n",
    "    FILES = ['archivos_datos/tiendas.csv']\n",
    "    fichero='tiendas.csv'    \n",
    "    def mapper_init(self):\n",
    "        #Nos devuelve la estructura diccionario rellena con los datos del fichero\n",
    "        self.dicTablaA=cargarFicheroEnMemoria(self,self.fichero) \n",
    "       \n",
    "    def mapper(self,_,line):\n",
    "        self.linea=line.split(';')\n",
    "        encontrado=re.search('[a-zA-Z]',self.linea[0])#Para que no tenga en cuenta las cabeceras de las tablas\n",
    "        if encontrado==None:\n",
    "            #Aplicamos algoritmo: \n",
    "            self.clave=self.linea[1] #Se extrae la clave del fichero que entra por línea de comandos \n",
    "             # Se comprueba que la clave del fichero de entrada esté en el diccionario\n",
    "            if self.clave in self.dicTablaA: #Si encuentra la clave en el diccionario unimos y cedemos (yield) resultado\n",
    "                yield self.clave,(self.linea,self.dicTablaA.get(self.clave) )\n",
    "            else:#Si no está, sacamos la línea del archivo pero sin su complementario del diccionario de memoria. Uniòn por la izquierda.\n",
    "                yield self.clave,(self.linea,\"null\")\n",
    "                \n",
    "if __name__ == '__main__':\n",
    "    unionReplicadaV5.run()"
   ]
  },
  {
   "cell_type": "code",
   "execution_count": 18,
   "metadata": {},
   "outputs": [
    {
     "name": "stderr",
     "output_type": "stream",
     "text": [
      "No configs found; falling back on auto-configuration\n",
      "No configs specified for inline runner\n",
      "Creating temp directory C:\\Users\\cyber\\AppData\\Local\\Temp\\unionReplicadaV5.manuel.20201205.194147.851299\n",
      "Running step 1 of 1...\n",
      "job output is in C:\\Users\\cyber\\AppData\\Local\\Temp\\unionReplicadaV5.manuel.20201205.194147.851299\\output\n",
      "Streaming final output from C:\\Users\\cyber\\AppData\\Local\\Temp\\unionReplicadaV5.manuel.20201205.194147.851299\\output...\n",
      "Removing temp directory C:\\Users\\cyber\\AppData\\Local\\Temp\\unionReplicadaV5.manuel.20201205.194147.851299...\n"
     ]
    }
   ],
   "source": [
    "!python unionReplicadaV5.py archivos_datos/articulos_stock.csv archivos_datos/articulos_stock2.csv > unionReplicadaV5.txt"
   ]
  },
  {
   "cell_type": "markdown",
   "metadata": {},
   "source": [
    "Versión 6 funciona - Utilizando herramientas de test y creando un objeto MRJob intento pasarle el diccionario ya relleno al constructor de la clase unionReplicada V6, me aparece un error de argumentos, si lo hago con un archivo funciona, si le mando un diccionario da error. EDITO 15/09/2020 --> Ya que me funciona el algoritmo de la versión 5, voy a desarrollar esta versión de test, que me parece muy interesante sobre todo cuando quiero hacer uniones replicadas de varios archivos usando solo una estructura en memoria; puedo crear un ejemplo claro de ejecución de varios runner. EDITO 17/09/2020 --> Consigo que el algoritmo funcione mediante llamada al objeto MRJob."
   ]
  },
  {
   "cell_type": "code",
   "execution_count": 1,
   "metadata": {},
   "outputs": [
    {
     "name": "stdout",
     "output_type": "stream",
     "text": [
      "Writing testUnionReplicadaV6.py\n"
     ]
    }
   ],
   "source": [
    "%%writefile testUnionReplicadaV6.py\n",
    "import unittest\n",
    "import re,json\n",
    "from unionReplicadaV6 import unionReplicadaV6\n",
    "\n",
    "class TestReplicatedJoin(unittest.TestCase):\n",
    "        \n",
    "    def setUp(self):\n",
    "        #Archivo para la unión\n",
    "        self.archivo = \"archivos_datos/tablaB.csv\"\n",
    "        \n",
    "        \"\"\"#self.archivo=\"clientes.csv\"\n",
    "        self.archivo = \"ventas.csv\"\n",
    "        self.diccionario={}\n",
    "        with open(self.archivo) as f:\n",
    "            self.tablaEnMemoria = set(line.strip() for line in f)\n",
    "        for linea in self.tablaEnMemoria:\n",
    "            encontrado=re.search('[a-zA-Z]',linea[0])#Para que no tenga en cuenta las cabeceras de las tablas\n",
    "            if encontrado==None:\n",
    "                datos = linea.split(\";\")\n",
    "                self.diccionario[datos[0]]=datos\"\"\"\n",
    "        \n",
    "        #print (\"Diccionario relleno: \",self.diccionario) #Veo si el diccionario está relleno\n",
    "        \n",
    "    def test_rj(self):\n",
    "        #self.archivo2=json.dumps(self.diccionario)\n",
    "        mr_job = unionReplicadaV6(['--runner=inline',self.archivo])#Mando al objeto \n",
    "                                                                   #MRJOB el diccionario.\n",
    "                                                                    #ERROR. Si pongo un\n",
    "                                                                    #archivo, sí funciona.\n",
    "        with mr_job.make_runner() as runner: #Ejecuto el MRJob\n",
    "            runner.run()\n",
    "            for key,value in mr_job.parse_output(runner.cat_output()):\n",
    "                print (key,value) \n",
    "            \n",
    "if __name__ == '__main__':\n",
    "    unittest.main()"
   ]
  },
  {
   "cell_type": "code",
   "execution_count": 2,
   "metadata": {},
   "outputs": [
    {
     "name": "stdout",
     "output_type": "stream",
     "text": [
      "Writing unionReplicadaV6.py\n"
     ]
    }
   ],
   "source": [
    "%%writefile unionReplicadaV6.py\n",
    "#!/usr/bin/python\n",
    "\n",
    "import re\n",
    "from mrjob.job import MRJob\n",
    "# Método para cargar el fichero en memoria\n",
    "def cargarFicheroEnMemoria(self,fichero):\n",
    "    diccionario={}\n",
    "    with open(fichero) as f:\n",
    "        self.tablaEnMemoria = set(line.strip() for line in f)\n",
    "    for linea in self.tablaEnMemoria:\n",
    "        #Para que no tenga en cuenta las cabeceras de las tablas\n",
    "        encontrado=re.search('[a-zA-Z]',linea[0])\n",
    "        if encontrado==None:\n",
    "            datos = linea.split(\";\")\n",
    "            diccionario[datos[0]]=datos\n",
    "    return diccionario\n",
    "class unionReplicadaV6(MRJob):\n",
    "    \n",
    "    #archivo para cargarlo en memoria en forma de diccionario\n",
    "    FILES = ['archivos_datos\\\\tablaA.csv']\n",
    "    fichero='tablaA.csv'    \n",
    "    def mapper_init(self):\n",
    "        #Nos devuelve la estructura diccionario rellena con los datos del fichero\n",
    "        self.dicTablaA=cargarFicheroEnMemoria(self,self.fichero)\n",
    "    \n",
    "    def mapper(self,_,line):\n",
    "        self.linea=line.split(';')\n",
    "        encontrado=re.search('[a-zA-Z]',self.linea[0])#Para que no tenga en cuenta las cabeceras de las tablas\n",
    "        if encontrado==None:\n",
    "            #Aplicamos algoritmo: \n",
    "            self.clave=self.linea[0] #Se extrae la clave del fichero que llega desde el RUNNER\n",
    "             # Se comprueba que la clave del fichero de entrada esté en el diccionario\n",
    "            if self.clave in self.dicTablaA: #Si encuentra la clave en el diccionario unimos y cedemos (yield) resultado\n",
    "                yield self.clave,(self.linea,self.dicTablaA.get(self.clave) )\n",
    "            else:#Si no está, sacamos la línea del archivo pero sin su complementario del diccionario de memoria. Uniòn por la izquierda.\n",
    "                yield self.clave,(self.linea,\"null\")\n",
    "            \n",
    "if __name__ == '__main__':\n",
    "    unionReplicadaV6.run()"
   ]
  },
  {
   "cell_type": "code",
   "execution_count": 3,
   "metadata": {},
   "outputs": [
    {
     "name": "stdout",
     "output_type": "stream",
     "text": [
      "3 [['3', '35314', 'Esto es texto del post'], ['3', '3738', 'New York,NY']]\n",
      "3 [['3', '44002', 'Esto es mas texto aun'], ['3', '3738', 'New York,NY']]\n",
      "5 [['5', '44921', 'Aqui digo otra cosa'], ['5', '17556', 'San Diego, CA']]\n",
      "5 [['5', '44920', 'Otra cosa que que se dice'], ['5', '17556', 'San Diego, CA']]\n",
      "8 [['8', '48675', 'Decimos muchas cosas, es impresionante'], 'null']\n"
     ]
    },
    {
     "name": "stderr",
     "output_type": "stream",
     "text": [
      "FILES: archivos_datos\\tablaA.csv will appear in same directory as job script, not a subdirectory\n",
      "FILES: archivos_datos\\tablaA.csv will appear in same directory as job script, not a subdirectory\n",
      "No configs specified for inline runner\n",
      ".\n",
      "----------------------------------------------------------------------\n",
      "Ran 1 test in 0.210s\n",
      "\n",
      "OK\n"
     ]
    }
   ],
   "source": [
    "!python testUnionReplicadaV6.py"
   ]
  },
  {
   "cell_type": "code",
   "execution_count": null,
   "metadata": {},
   "outputs": [],
   "source": []
  }
 ],
 "metadata": {
  "kernelspec": {
   "display_name": "Python 3",
   "language": "python",
   "name": "python3"
  },
  "language_info": {
   "codemirror_mode": {
    "name": "ipython",
    "version": 3
   },
   "file_extension": ".py",
   "mimetype": "text/x-python",
   "name": "python",
   "nbconvert_exporter": "python",
   "pygments_lexer": "ipython3",
   "version": "3.8.5"
  }
 },
 "nbformat": 4,
 "nbformat_minor": 4
}
